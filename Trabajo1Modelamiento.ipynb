{
  "nbformat": 4,
  "nbformat_minor": 0,
  "metadata": {
    "colab": {
      "name": "Trabajo1Modelamiento.ipynb",
      "provenance": [],
      "collapsed_sections": [],
      "authorship_tag": "ABX9TyMYfuhFdMjxTX6BQbV6eO+V",
      "include_colab_link": true
    },
    "kernelspec": {
      "name": "python3",
      "display_name": "Python 3"
    },
    "language_info": {
      "name": "python"
    }
  },
  "cells": [
    {
      "cell_type": "markdown",
      "metadata": {
        "id": "view-in-github",
        "colab_type": "text"
      },
      "source": [
        "<a href=\"https://colab.research.google.com/github/slader1144/Photon/blob/main/Trabajo1Modelamiento.ipynb\" target=\"_parent\"><img src=\"https://colab.research.google.com/assets/colab-badge.svg\" alt=\"Open In Colab\"/></a>"
      ]
    },
    {
      "cell_type": "code",
      "execution_count": 19,
      "metadata": {
        "colab": {
          "base_uri": "https://localhost:8080/",
          "height": 317
        },
        "id": "ynSlbLT3g6Ec",
        "outputId": "bd6bb347-68cb-4343-cd04-cb3bc541aba1"
      },
      "outputs": [
        {
          "output_type": "stream",
          "name": "stderr",
          "text": [
            "/usr/local/lib/python3.7/dist-packages/ipykernel_launcher.py:32: RuntimeWarning: invalid value encountered in sqrt\n"
          ]
        },
        {
          "output_type": "execute_result",
          "data": {
            "text/plain": [
              "Text(0, 0.5, 'Nivel de agua')"
            ]
          },
          "metadata": {},
          "execution_count": 19
        },
        {
          "output_type": "display_data",
          "data": {
            "text/plain": [
              "<Figure size 432x288 with 1 Axes>"
            ],
            "image/png": "[encoded data removed]"
          },
          "metadata": {
            "needs_background": "light"
          }
        }
      ],
      "source": [
        "import numpy as np\n",
        "import matplotlib.pyplot as plt\n",
        "#Parametros de la simulación\n",
        "Mo=1.5 #peso de la botella con 1lt de agua\n",
        "mo=0.5 #Peso de la botella vacía, 500gr\n",
        "Kv=0.1 #Constante de fricción\n",
        "g=9.8 #Aceleración de la gravedad\n",
        "C=20 #Velocidad de salida del agua\n",
        "u=-1/.5 #El kg de agua se vacía en 0.5 segundo\n",
        "dt=0.001 #Cambio en el tiempo\n",
        "#Variables de la simulación\n",
        "yo=0 #Altura inicial del cohete\n",
        "y1=0 #Velocidad inicial del cohete\n",
        "t=0\n",
        "h= 0.3 #Altura de la botella en m\n",
        "ht= 0.15 #Altura inicial del agua dependiendo del tiempo\n",
        "rho= 1000\n",
        "At=0.005 #Área del tanque\n",
        "Ao=0.00062 #Área del orificio de la botella\n",
        "Psi=92 #Psi con 1.2 atmosferas\n",
        "Pa=101325 # Presión atmosférica\n",
        "dhdt=0\n",
        "Fp=0\n",
        "#Vectores para almacenar los valores del movimiento\n",
        "vYo=[yo]\n",
        "vY1=[y1]\n",
        "vT=[t]\n",
        "vFp=[Fp]\n",
        "vDhdt=[dhdt]\n",
        "while(yo>=0): #Vamos a correr la simulación hasta que caiga nuevamente\n",
        " #Cálculo de las velocidades\n",
        " dhdt =np.sqrt((Pa-(rho*g*ht)-(Psi/((h-ht)*At)))/(1/2*rho*(1-(At/Ao)**2)))\n",
        " dyodt=y1\n",
        " if(ht>0):\n",
        "  Fp=rho*(At**2)/Ao*(dhdt**2)\n",
        " else:\n",
        "  Fp=0\n",
        " if(Mo+u*t>mo): #Aún hay combustible:\n",
        "  dy1dt=(-Kv*y1/(Mo+u*t)-C*u/(Mo+u*t)-g)\n",
        " else:\n",
        "  dy1dt=-Kv*y1/mo-g\n",
        " #Cálculo de las nuevas posiciones\n",
        " yo=yo+dt*dyodt\n",
        " y1=y1+dt*dy1dt\n",
        " t=t+dt\n",
        " h=h+dt*dhdt\n",
        " ht=ht-dt*dhdt\n",
        " vYo.append(yo)\n",
        " vY1.append(y1)\n",
        " vT.append(t)\n",
        " vDhdt.append(dhdt)\n",
        " vFp.append(Fp)\n",
        "\n",
        "#plt.plot(vT, vYo)\n",
        "#plt.grid()\n",
        "#plt.xlabel('Tiempo seg')\n",
        "#plt.ylabel('Altura del cohete en metros')\n",
        "\n",
        "#plt.plot(vT,vDhdt)\n",
        "#plt.grid()\n",
        "#plt.xlabel('Tiempo seg')\n",
        "#plt.ylabel('Velocidad del cohete')\n",
        "\n",
        "plt.plot(vT,vFp)\n",
        "plt.grid()\n",
        "plt.xlabel('Tiempo seg')\n",
        "plt.ylabel('Nivel de agua')"
      ]
    }
  ]
}